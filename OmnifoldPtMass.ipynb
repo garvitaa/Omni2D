{
 "cells": [
  {
   "cell_type": "markdown",
   "metadata": {},
   "source": [
    "# Jet pt and mass \"inverting\" regression with omnifold"
   ]
  },
  {
   "cell_type": "code",
   "execution_count": 1,
   "metadata": {
    "ExecuteTime": {
     "end_time": "2020-11-17T03:48:59.924067Z",
     "start_time": "2020-11-17T03:48:57.190005Z"
    }
   },
   "outputs": [
    {
     "name": "stderr",
     "output_type": "stream",
     "text": [
      "2025-02-04 20:13:03.438765: I external/local_xla/xla/tsl/cuda/cudart_stub.cc:32] Could not find cuda drivers on your machine, GPU will not be used.\n",
      "2025-02-04 20:13:03.441802: I external/local_xla/xla/tsl/cuda/cudart_stub.cc:32] Could not find cuda drivers on your machine, GPU will not be used.\n",
      "2025-02-04 20:13:03.451534: E external/local_xla/xla/stream_executor/cuda/cuda_fft.cc:485] Unable to register cuFFT factory: Attempting to register factory for plugin cuFFT when one has already been registered\n",
      "2025-02-04 20:13:03.467133: E external/local_xla/xla/stream_executor/cuda/cuda_dnn.cc:8454] Unable to register cuDNN factory: Attempting to register factory for plugin cuDNN when one has already been registered\n",
      "2025-02-04 20:13:03.471473: E external/local_xla/xla/stream_executor/cuda/cuda_blas.cc:1452] Unable to register cuBLAS factory: Attempting to register factory for plugin cuBLAS when one has already been registered\n",
      "2025-02-04 20:13:03.481951: I tensorflow/core/platform/cpu_feature_guard.cc:210] This TensorFlow binary is optimized to use available CPU instructions in performance-critical operations.\n",
      "To enable the following instructions: AVX2 FMA, in other operations, rebuild TensorFlow with the appropriate compiler flags.\n",
      "2025-02-04 20:13:04.413175: W tensorflow/compiler/tf2tensorrt/utils/py_utils.cc:38] TF-TRT Warning: Could not find TensorRT\n"
     ]
    },
    {
     "name": "stdout",
     "output_type": "stream",
     "text": [
      "Horovod not found, will continue with single only GPUs.\n"
     ]
    },
    {
     "name": "stderr",
     "output_type": "stream",
     "text": [
      "/opt/conda/lib/python3.11/site-packages/coffea/nanoevents/schemas/fcc.py:5: FutureWarning: In version 2025.1.0 (target date: 2024-12-31 11:59:59-06:00), this will be an error.\n",
      "To raise these warnings as errors (and get stack traces to find out where they're called), run\n",
      "    import warnings\n",
      "    warnings.filterwarnings(\"error\", module=\"coffea.*\")\n",
      "after the first `import coffea` or use `@pytest.mark.filterwarnings(\"error:::coffea.*\")` in pytest.\n",
      "Issue: coffea.nanoevents.methods.vector will be removed and replaced with scikit-hep vector. Nanoevents schemas internal to coffea will be migrated. Otherwise please consider using that package!.\n",
      "  from coffea.nanoevents.methods import vector\n"
     ]
    }
   ],
   "source": [
    "from __future__ import absolute_import, division, print_function\n",
    "import numpy as np\n",
    "import uproot\n",
    "import aiohttp\n",
    "from matplotlib import pyplot as plt\n",
    "import awkward as ak\n",
    "from keras.layers import Dense, Input\n",
    "from keras.models import Model\n",
    "from tensorflow.keras.callbacks import EarlyStopping\n",
    "\n",
    "import omnifold \n",
    "from omnifold import DataLoader, MultiFold, MLP, SetStyle, HistRoutine\n",
    "import os\n",
    "import tensorflow as tf\n",
    "import coffea\n",
    "from coffea.nanoevents import NanoEventsFactory, NanoAODSchema\n",
    "import matplotlib as mpl\n",
    "#####\n",
    "#Delta R matched"
   ]
  },
  {
   "cell_type": "code",
   "execution_count": 2,
   "metadata": {},
   "outputs": [],
   "source": [
    "\n",
    "import matplotlib as mpl\n",
    "mpl.rcParams.update(mpl.rcParamsDefault)\n",
    "mpl.rcParams[\"text.usetex\"]=False "
   ]
  },
  {
   "cell_type": "code",
   "execution_count": 3,
   "metadata": {},
   "outputs": [
    {
     "data": {
      "text/plain": [
       "'2024.10.0'"
      ]
     },
     "execution_count": 3,
     "metadata": {},
     "output_type": "execute_result"
    }
   ],
   "source": [
    "coffea.__version__"
   ]
  },
  {
   "cell_type": "markdown",
   "metadata": {},
   "source": [
    "### Check to see if a GPU is present for acceleration"
   ]
  },
  {
   "cell_type": "markdown",
   "metadata": {},
   "source": [
    "### Get leading generator-level (\"truth\" or \"gen\") jet and match to the nearest reconstructed-level (\"reco\") jet"
   ]
  },
  {
   "cell_type": "code",
   "execution_count": 4,
   "metadata": {},
   "outputs": [
    {
     "name": "stderr",
     "output_type": "stream",
     "text": [
      "/opt/conda/lib/python3.11/site-packages/coffea/nanoevents/schemas/nanoaod.py:264: RuntimeWarning: Missing cross-reference index for LowPtElectron_electronIdx => Electron\n",
      "  warnings.warn(\n",
      "/opt/conda/lib/python3.11/site-packages/coffea/nanoevents/schemas/nanoaod.py:264: RuntimeWarning: Missing cross-reference index for LowPtElectron_photonIdx => Photon\n",
      "  warnings.warn(\n"
     ]
    }
   ],
   "source": [
    "#coffea init\n",
    "cofevents = NanoEventsFactory.from_root( {'QCD_Pt-15to7000_TuneCP5_Flat2018_13TeV_pythia8_NANOAODSIM_7F142AC6-39F2-2F4F-9F97-C425A1C99A35.root':'Events'}, schemaclass=NanoAODSchema).events()\n",
    "####\n",
    "\n",
    "# Filter 0s \n",
    "cevents = cofevents[ak.num(cofevents.FatJet)>0]\n",
    "cevents = cevents[ak.num(cevents.GenJetAK8)>0]\n",
    "fj = cevents.FatJet\n",
    "gj = cevents.GenJetAK8\n",
    "#fsubjets = cevents.SubJetsAK8\n",
    "gsubjets = cevents.SubGenJetAK8\n",
    "\n",
    "\n",
    "#this should give fatjets closest to genjets, and since genjets are already stripped of zeroes, this should just line up (pfft just kidding)\n",
    "nearest_fj = gj.nearest(fj)\n",
    "\n",
    "gj0 = gj[:,0]          # Leading generator-level (gen) jet\n",
    "fj0 = nearest_fj[:,0]  # Reco jet that matches leading gen jet"
   ]
  },
  {
   "cell_type": "code",
   "execution_count": 74,
   "metadata": {},
   "outputs": [
    {
     "data": {
      "text/plain": [
       "dask.awkward<greater, npartitions=1>"
      ]
     },
     "execution_count": 74,
     "metadata": {},
     "output_type": "execute_result"
    }
   ],
   "source": [
    "ak.num(gj, axis=1) > 0"
   ]
  },
  {
   "cell_type": "code",
   "execution_count": 75,
   "metadata": {},
   "outputs": [],
   "source": [
    "sel = ak.num(gj, axis=1) > 0"
   ]
  },
  {
   "cell_type": "code",
   "execution_count": 79,
   "metadata": {},
   "outputs": [
    {
     "data": {
      "text/plain": [
       "300792"
      ]
     },
     "execution_count": 79,
     "metadata": {},
     "output_type": "execute_result"
    }
   ],
   "source": [
    "ak.sum(sel).compute()"
   ]
  },
  {
   "cell_type": "code",
   "execution_count": 81,
   "metadata": {},
   "outputs": [
    {
     "data": {
      "text/plain": [
       "300792"
      ]
     },
     "execution_count": 81,
     "metadata": {},
     "output_type": "execute_result"
    }
   ],
   "source": [
    "len(gj.compute())"
   ]
  },
  {
   "cell_type": "code",
   "execution_count": 84,
   "metadata": {},
   "outputs": [
    {
     "data": {
      "text/html": [
       "<pre>[{eta: -0.574, mass: 61.2, phi: -2.48, pt: 379, partonFlavour: 4, ...},\n",
       " {eta: 0.756, mass: 46.5, phi: -1.74, pt: 1.37e+03, partonFlavour: 2, ...},\n",
       " {eta: 0.323, mass: 61.7, phi: -1.3, pt: 717, partonFlavour: 21, ...},\n",
       " {eta: 0.204, mass: 139, phi: 0.0561, pt: 921, partonFlavour: 21, ...},\n",
       " {eta: 0.259, mass: 141, phi: -2.88, pt: 345, partonFlavour: 21, ...},\n",
       " {eta: 0.342, mass: 96.1, phi: -1.27, pt: 1.51e+03, partonFlavour: 2, ...},\n",
       " {eta: 1.3, mass: 78.9, phi: 0.446, pt: 664, partonFlavour: 2, ...},\n",
       " {eta: 1.04, mass: 44.3, phi: 2.86, pt: 821, partonFlavour: 1, ...},\n",
       " {eta: -1.06, mass: 83.8, phi: 0.948, pt: 523, partonFlavour: 21, ...},\n",
       " {eta: -0.502, mass: 73.8, phi: 0.216, pt: 618, partonFlavour: 21, ...},\n",
       " ...,\n",
       " {eta: -0.0506, mass: 230, phi: 1, pt: 3.07e+03, partonFlavour: 2, ...},\n",
       " {eta: -0.76, mass: 72.2, phi: -2.76, pt: 744, partonFlavour: 2, ...},\n",
       " {eta: -1.95, mass: 22, phi: -2.15, pt: 413, partonFlavour: 2, ...},\n",
       " {eta: -0.268, mass: 219, phi: -2.01, pt: 4.18e+03, partonFlavour: 4, ...},\n",
       " {eta: -0.162, mass: 118, phi: -2.58, pt: 4.41e+03, partonFlavour: 1, ...},\n",
       " {eta: -0.913, mass: 52.2, phi: -2.62, pt: 662, partonFlavour: 2, ...},\n",
       " {eta: -0.124, mass: 149, phi: 2.38, pt: 2.3e+03, partonFlavour: 4, ...},\n",
       " {eta: -0.158, mass: 398, phi: 2.33, pt: 5.96e+03, partonFlavour: 2, ...},\n",
       " {eta: -0.316, mass: 148, phi: -1.18, pt: 2.91e+03, partonFlavour: 1, ...}]\n",
       "--------------------------------------------------------------------------------------------------------------------------\n",
       "type: 284388 * ?PtEtaPhiMCollection[\n",
       "    eta: float32[parameters={&quot;__doc__&quot;: &quot;eta&quot;}],\n",
       "    mass: float32[parameters={&quot;__doc__&quot;: &quot;mass&quot;}],\n",
       "    phi: float32[parameters={&quot;__doc__&quot;: &quot;phi&quot;}],\n",
       "    pt: float32[parameters={&quot;__doc__&quot;: &quot;pt&quot;}],\n",
       "    partonFlavour: int32[parameters={&quot;__doc__&quot;: &quot;flavour from parton matching&quot;}],\n",
       "    hadronFlavour: uint8[parameters={&quot;__doc__&quot;: &quot;flavour from hadron ghost clustering&quot;}], \n",
       "parameters={&quot;__doc__&quot;: &quot;slimmedGenJetsAK8, i.e. ak8 Jets made with visible genparticles&quot;, &quot;collection_name&quot;: &quot;GenJetAK8&quot;}]</pre>"
      ],
      "text/plain": [
       "<PtEtaPhiMCollectionArray [{eta: -0.574, mass: 61.2, ...}, ...] type='28438...'>"
      ]
     },
     "execution_count": 84,
     "metadata": {},
     "output_type": "execute_result"
    }
   ],
   "source": [
    "gj0.compute()"
   ]
  },
  {
   "cell_type": "code",
   "execution_count": 37,
   "metadata": {},
   "outputs": [],
   "source": [
    "def get_groomed_jet( jet, subjets , verbose = False):\n",
    "    '''\n",
    "    Find the subjets that correspond to the given jet using delta R matching. \n",
    "    This is suboptimal, but it's hard to fix upstream. \n",
    "    '''\n",
    "    n_subjets = ak.num( subjets, axis=1 )\n",
    "    n_jet = ak.num(jet, axis=0)\n",
    "    sel = (n_jet >= 1) & (n_subjets >= 2)\n",
    "    combs = ak.cartesian( (jet[sel], subjets[sel]), axis=1 )\n",
    "    dr_jet_subjets = combs['0'].delta_r(combs['1'])\n",
    "    sel = dr_jet_subjets < 0.8\n",
    "    total = combs[sel]['1'].sum(axis=1)\n",
    "    return total, sel"
   ]
  },
  {
   "cell_type": "code",
   "execution_count": 65,
   "metadata": {},
   "outputs": [
    {
     "data": {
      "text/html": [
       "<pre>[{eta: -0.562, mass: 3.36, phi: -2.47, pt: 244},\n",
       " {eta: -0.551, mass: 1.42, phi: -2.5, pt: 54.3},\n",
       " {eta: -1.81, mass: 1.43, phi: 0.737, pt: 164},\n",
       " {eta: -1.82, mass: 1.67, phi: 0.741, pt: 98.8}]\n",
       "-------------------------------------------------------------------------------------------------------------------------------------------------------\n",
       "type: 4 * PtEtaPhiMCollection[\n",
       "    eta: float32[parameters={&quot;__doc__&quot;: &quot;eta&quot;}],\n",
       "    mass: float32[parameters={&quot;__doc__&quot;: &quot;mass&quot;}],\n",
       "    phi: float32[parameters={&quot;__doc__&quot;: &quot;phi&quot;}],\n",
       "    pt: float32[parameters={&quot;__doc__&quot;: &quot;pt&quot;}], \n",
       "parameters={&quot;__doc__&quot;: &quot;slimmedGenJetsAK8SoftDropSubJets, i.e. subjets of ak8 Jets made with visible genparticles&quot;, &quot;collection_name&quot;: &quot;SubGenJetAK8&quot;}]</pre>"
      ],
      "text/plain": [
       "<PtEtaPhiMCollectionArray [{eta: -0.562, mass: 3.36, ...}, ...] type='4 * P...'>"
      ]
     },
     "execution_count": 65,
     "metadata": {},
     "output_type": "execute_result"
    }
   ],
   "source": [
    "gsubjets[0].compute()"
   ]
  },
  {
   "cell_type": "code",
   "execution_count": 38,
   "metadata": {},
   "outputs": [
    {
     "name": "stdout",
     "output_type": "stream",
     "text": [
      "n_subjets_ge_2  dask.awkward<greater-equal, npartitions=1>\n"
     ]
    },
    {
     "ename": "IndexError",
     "evalue": "cannot slice IndexedOptionArray (of length 284388) with array([     0,      1,      2, ..., 300789, 300790, 300791]): index 284388 is out of bounds for axis 0 with size 284388",
     "output_type": "error",
     "traceback": [
      "\u001b[0;31m---------------------------------------------------------------------------\u001b[0m",
      "\u001b[0;31mIndexError\u001b[0m                                Traceback (most recent call last)",
      "File \u001b[0;32m/opt/conda/lib/python3.11/site-packages/awkward/contents/indexedoptionarray.py:354\u001b[0m, in \u001b[0;36mIndexedOptionArray._carry\u001b[0;34m(self, carry, allow_lazy)\u001b[0m\n\u001b[1;32m    353\u001b[0m \u001b[38;5;28;01mtry\u001b[39;00m:\n\u001b[0;32m--> 354\u001b[0m     nextindex \u001b[38;5;241m=\u001b[39m \u001b[38;5;28;43mself\u001b[39;49m\u001b[38;5;241;43m.\u001b[39;49m\u001b[43m_index\u001b[49m\u001b[43m[\u001b[49m\u001b[43mcarry\u001b[49m\u001b[38;5;241;43m.\u001b[39;49m\u001b[43mdata\u001b[49m\u001b[43m]\u001b[49m\n\u001b[1;32m    355\u001b[0m \u001b[38;5;28;01mexcept\u001b[39;00m \u001b[38;5;167;01mIndexError\u001b[39;00m \u001b[38;5;28;01mas\u001b[39;00m err:\n",
      "File \u001b[0;32m/opt/conda/lib/python3.11/site-packages/awkward/index.py:235\u001b[0m, in \u001b[0;36mIndex.__getitem__\u001b[0;34m(self, where)\u001b[0m\n\u001b[1;32m    233\u001b[0m     where \u001b[38;5;241m=\u001b[39m normalize_slice(where, nplike\u001b[38;5;241m=\u001b[39m\u001b[38;5;28mself\u001b[39m\u001b[38;5;241m.\u001b[39mnplike)\n\u001b[0;32m--> 235\u001b[0m out \u001b[38;5;241m=\u001b[39m \u001b[38;5;28;43mself\u001b[39;49m\u001b[38;5;241;43m.\u001b[39;49m\u001b[43m_data\u001b[49m\u001b[43m[\u001b[49m\u001b[43mwhere\u001b[49m\u001b[43m]\u001b[49m\n\u001b[1;32m    237\u001b[0m \u001b[38;5;28;01mif\u001b[39;00m \u001b[38;5;28mhasattr\u001b[39m(out, \u001b[38;5;124m\"\u001b[39m\u001b[38;5;124mshape\u001b[39m\u001b[38;5;124m\"\u001b[39m) \u001b[38;5;129;01mand\u001b[39;00m \u001b[38;5;28mlen\u001b[39m(out\u001b[38;5;241m.\u001b[39mshape) \u001b[38;5;241m!=\u001b[39m \u001b[38;5;241m0\u001b[39m:\n",
      "\u001b[0;31mIndexError\u001b[0m: index 284388 is out of bounds for axis 0 with size 284388",
      "\nThe above exception was the direct cause of the following exception:\n",
      "\u001b[0;31mIndexError\u001b[0m                                Traceback (most recent call last)",
      "Cell \u001b[0;32mIn[38], line 1\u001b[0m\n\u001b[0;32m----> 1\u001b[0m gj0_groomed, gj0_groomed_select \u001b[38;5;241m=\u001b[39m \u001b[43mget_groomed_jet\u001b[49m\u001b[43m(\u001b[49m\u001b[43m \u001b[49m\u001b[43mgj0\u001b[49m\u001b[43m,\u001b[49m\u001b[43m \u001b[49m\u001b[43mgsubjets\u001b[49m\u001b[43m \u001b[49m\u001b[43m)\u001b[49m\n",
      "Cell \u001b[0;32mIn[37], line 11\u001b[0m, in \u001b[0;36mget_groomed_jet\u001b[0;34m(jet, subjets, verbose)\u001b[0m\n\u001b[1;32m      9\u001b[0m n_subjets_ge_2\u001b[38;5;241m.\u001b[39mcompute()\n\u001b[1;32m     10\u001b[0m \u001b[38;5;28mprint\u001b[39m(\u001b[38;5;124m\"\u001b[39m\u001b[38;5;124mn_subjets_ge_2 \u001b[39m\u001b[38;5;124m\"\u001b[39m, n_subjets_ge_2)\n\u001b[0;32m---> 11\u001b[0m \u001b[43mjet\u001b[49m\u001b[43m[\u001b[49m\u001b[43mn_subjets_ge_2\u001b[49m\u001b[43m]\u001b[49m\u001b[38;5;241;43m.\u001b[39;49m\u001b[43mcompute\u001b[49m\u001b[43m(\u001b[49m\u001b[43m)\u001b[49m\n\u001b[1;32m     12\u001b[0m subjets[n_subjets_ge_2]\u001b[38;5;241m.\u001b[39mcompute()\n\u001b[1;32m     13\u001b[0m combs \u001b[38;5;241m=\u001b[39m ak\u001b[38;5;241m.\u001b[39mcartesian( (jet[n_subjets_ge_2], subjets[n_subjets_ge_2]), axis\u001b[38;5;241m=\u001b[39m\u001b[38;5;241m1\u001b[39m )\n",
      "File \u001b[0;32m/opt/conda/lib/python3.11/site-packages/dask/base.py:372\u001b[0m, in \u001b[0;36mDaskMethodsMixin.compute\u001b[0;34m(self, **kwargs)\u001b[0m\n\u001b[1;32m    348\u001b[0m \u001b[38;5;28;01mdef\u001b[39;00m \u001b[38;5;21mcompute\u001b[39m(\u001b[38;5;28mself\u001b[39m, \u001b[38;5;241m*\u001b[39m\u001b[38;5;241m*\u001b[39mkwargs):\n\u001b[1;32m    349\u001b[0m \u001b[38;5;250m    \u001b[39m\u001b[38;5;124;03m\"\"\"Compute this dask collection\u001b[39;00m\n\u001b[1;32m    350\u001b[0m \n\u001b[1;32m    351\u001b[0m \u001b[38;5;124;03m    This turns a lazy Dask collection into its in-memory equivalent.\u001b[39;00m\n\u001b[0;32m   (...)\u001b[0m\n\u001b[1;32m    370\u001b[0m \u001b[38;5;124;03m    dask.compute\u001b[39;00m\n\u001b[1;32m    371\u001b[0m \u001b[38;5;124;03m    \"\"\"\u001b[39;00m\n\u001b[0;32m--> 372\u001b[0m     (result,) \u001b[38;5;241m=\u001b[39m \u001b[43mcompute\u001b[49m\u001b[43m(\u001b[49m\u001b[38;5;28;43mself\u001b[39;49m\u001b[43m,\u001b[49m\u001b[43m \u001b[49m\u001b[43mtraverse\u001b[49m\u001b[38;5;241;43m=\u001b[39;49m\u001b[38;5;28;43;01mFalse\u001b[39;49;00m\u001b[43m,\u001b[49m\u001b[43m \u001b[49m\u001b[38;5;241;43m*\u001b[39;49m\u001b[38;5;241;43m*\u001b[39;49m\u001b[43mkwargs\u001b[49m\u001b[43m)\u001b[49m\n\u001b[1;32m    373\u001b[0m     \u001b[38;5;28;01mreturn\u001b[39;00m result\n",
      "File \u001b[0;32m/opt/conda/lib/python3.11/site-packages/dask/base.py:660\u001b[0m, in \u001b[0;36mcompute\u001b[0;34m(traverse, optimize_graph, scheduler, get, *args, **kwargs)\u001b[0m\n\u001b[1;32m    657\u001b[0m     postcomputes\u001b[38;5;241m.\u001b[39mappend(x\u001b[38;5;241m.\u001b[39m__dask_postcompute__())\n\u001b[1;32m    659\u001b[0m \u001b[38;5;28;01mwith\u001b[39;00m shorten_traceback():\n\u001b[0;32m--> 660\u001b[0m     results \u001b[38;5;241m=\u001b[39m \u001b[43mschedule\u001b[49m\u001b[43m(\u001b[49m\u001b[43mdsk\u001b[49m\u001b[43m,\u001b[49m\u001b[43m \u001b[49m\u001b[43mkeys\u001b[49m\u001b[43m,\u001b[49m\u001b[43m \u001b[49m\u001b[38;5;241;43m*\u001b[39;49m\u001b[38;5;241;43m*\u001b[39;49m\u001b[43mkwargs\u001b[49m\u001b[43m)\u001b[49m\n\u001b[1;32m    662\u001b[0m \u001b[38;5;28;01mreturn\u001b[39;00m repack([f(r, \u001b[38;5;241m*\u001b[39ma) \u001b[38;5;28;01mfor\u001b[39;00m r, (f, a) \u001b[38;5;129;01min\u001b[39;00m \u001b[38;5;28mzip\u001b[39m(results, postcomputes)])\n",
      "File \u001b[0;32m/opt/conda/lib/python3.11/site-packages/awkward/highlevel.py:1066\u001b[0m, in \u001b[0;36mArray.__getitem__\u001b[0;34m(self, where)\u001b[0m\n\u001b[1;32m    636\u001b[0m \u001b[38;5;250m\u001b[39m\u001b[38;5;124;03m\"\"\"\u001b[39;00m\n\u001b[1;32m    637\u001b[0m \u001b[38;5;124;03mArgs:\u001b[39;00m\n\u001b[1;32m    638\u001b[0m \u001b[38;5;124;03m    where (many types supported; see below): Index of positions to\u001b[39;00m\n\u001b[0;32m   (...)\u001b[0m\n\u001b[1;32m   1062\u001b[0m \u001b[38;5;124;03mhave the same dimension as the array being indexed.\u001b[39;00m\n\u001b[1;32m   1063\u001b[0m \u001b[38;5;124;03m\"\"\"\u001b[39;00m\n\u001b[1;32m   1064\u001b[0m \u001b[38;5;28;01mwith\u001b[39;00m ak\u001b[38;5;241m.\u001b[39m_errors\u001b[38;5;241m.\u001b[39mSlicingErrorContext(\u001b[38;5;28mself\u001b[39m, where):\n\u001b[1;32m   1065\u001b[0m     \u001b[38;5;28;01mreturn\u001b[39;00m wrap_layout(\n\u001b[0;32m-> 1066\u001b[0m         prepare_layout(\u001b[38;5;28;43mself\u001b[39;49m\u001b[38;5;241;43m.\u001b[39;49m\u001b[43m_layout\u001b[49m\u001b[43m[\u001b[49m\u001b[43mwhere\u001b[49m\u001b[43m]\u001b[49m),\n\u001b[1;32m   1067\u001b[0m         \u001b[38;5;28mself\u001b[39m\u001b[38;5;241m.\u001b[39m_behavior,\n\u001b[1;32m   1068\u001b[0m         allow_other\u001b[38;5;241m=\u001b[39m\u001b[38;5;28;01mTrue\u001b[39;00m,\n\u001b[1;32m   1069\u001b[0m         attrs\u001b[38;5;241m=\u001b[39m\u001b[38;5;28mself\u001b[39m\u001b[38;5;241m.\u001b[39m_attrs,\n\u001b[1;32m   1070\u001b[0m     )\n",
      "File \u001b[0;32m/opt/conda/lib/python3.11/site-packages/awkward/contents/content.py:512\u001b[0m, in \u001b[0;36mContent.__getitem__\u001b[0;34m(self, where)\u001b[0m\n\u001b[1;32m    511\u001b[0m \u001b[38;5;28;01mdef\u001b[39;00m \u001b[38;5;21m__getitem__\u001b[39m(\u001b[38;5;28mself\u001b[39m, where):\n\u001b[0;32m--> 512\u001b[0m     \u001b[38;5;28;01mreturn\u001b[39;00m \u001b[38;5;28;43mself\u001b[39;49m\u001b[38;5;241;43m.\u001b[39;49m\u001b[43m_getitem\u001b[49m\u001b[43m(\u001b[49m\u001b[43mwhere\u001b[49m\u001b[43m)\u001b[49m\n",
      "File \u001b[0;32m/opt/conda/lib/python3.11/site-packages/awkward/contents/content.py:565\u001b[0m, in \u001b[0;36mContent._getitem\u001b[0;34m(self, where)\u001b[0m\n\u001b[1;32m    562\u001b[0m         \u001b[38;5;28;01mreturn\u001b[39;00m out\u001b[38;5;241m.\u001b[39m_getitem_at(\u001b[38;5;241m0\u001b[39m)\n\u001b[1;32m    564\u001b[0m \u001b[38;5;28;01melif\u001b[39;00m \u001b[38;5;28misinstance\u001b[39m(where, ak\u001b[38;5;241m.\u001b[39mhighlevel\u001b[38;5;241m.\u001b[39mArray):\n\u001b[0;32m--> 565\u001b[0m     \u001b[38;5;28;01mreturn\u001b[39;00m \u001b[38;5;28;43mself\u001b[39;49m\u001b[38;5;241;43m.\u001b[39;49m\u001b[43m_getitem\u001b[49m\u001b[43m(\u001b[49m\u001b[43mwhere\u001b[49m\u001b[38;5;241;43m.\u001b[39;49m\u001b[43mlayout\u001b[49m\u001b[43m)\u001b[49m\n\u001b[1;32m    567\u001b[0m \u001b[38;5;66;03m# Convert between nplikes of different backends\u001b[39;00m\n\u001b[1;32m    568\u001b[0m \u001b[38;5;28;01melif\u001b[39;00m (\n\u001b[1;32m    569\u001b[0m     \u001b[38;5;28misinstance\u001b[39m(where, ak\u001b[38;5;241m.\u001b[39mcontents\u001b[38;5;241m.\u001b[39mContent)\n\u001b[1;32m    570\u001b[0m     \u001b[38;5;129;01mand\u001b[39;00m where\u001b[38;5;241m.\u001b[39mbackend \u001b[38;5;129;01mis\u001b[39;00m \u001b[38;5;129;01mnot\u001b[39;00m \u001b[38;5;28mself\u001b[39m\u001b[38;5;241m.\u001b[39m_backend\n\u001b[1;32m    571\u001b[0m ):\n",
      "File \u001b[0;32m/opt/conda/lib/python3.11/site-packages/awkward/contents/content.py:614\u001b[0m, in \u001b[0;36mContent._getitem\u001b[0;34m(self, where)\u001b[0m\n\u001b[1;32m    606\u001b[0m \u001b[38;5;28;01melse\u001b[39;00m:\n\u001b[1;32m    607\u001b[0m     \u001b[38;5;28;01mraise\u001b[39;00m \u001b[38;5;167;01mTypeError\u001b[39;00m(\n\u001b[1;32m    608\u001b[0m         \u001b[38;5;124m\"\u001b[39m\u001b[38;5;124marray slice must be an array of integers or booleans, not\u001b[39m\u001b[38;5;130;01m\\n\u001b[39;00m\u001b[38;5;130;01m\\n\u001b[39;00m\u001b[38;5;124m    \u001b[39m\u001b[38;5;132;01m{}\u001b[39;00m\u001b[38;5;124m\"\u001b[39m\u001b[38;5;241m.\u001b[39mformat(\n\u001b[1;32m    609\u001b[0m             \u001b[38;5;28mrepr\u001b[39m(where\u001b[38;5;241m.\u001b[39mdata)\u001b[38;5;241m.\u001b[39mreplace(\u001b[38;5;124m\"\u001b[39m\u001b[38;5;130;01m\\n\u001b[39;00m\u001b[38;5;124m\"\u001b[39m, \u001b[38;5;124m\"\u001b[39m\u001b[38;5;130;01m\\n\u001b[39;00m\u001b[38;5;124m    \u001b[39m\u001b[38;5;124m\"\u001b[39m)\n\u001b[1;32m    610\u001b[0m         )\n\u001b[1;32m    611\u001b[0m     )\n\u001b[1;32m    613\u001b[0m out \u001b[38;5;241m=\u001b[39m ak\u001b[38;5;241m.\u001b[39m_slicing\u001b[38;5;241m.\u001b[39mgetitem_next_array_wrap(\n\u001b[0;32m--> 614\u001b[0m     \u001b[38;5;28;43mself\u001b[39;49m\u001b[38;5;241;43m.\u001b[39;49m\u001b[43m_carry\u001b[49m\u001b[43m(\u001b[49m\u001b[43mcarry\u001b[49m\u001b[43m,\u001b[49m\u001b[43m \u001b[49m\u001b[43mallow_lazy\u001b[49m\u001b[43m)\u001b[49m, where\u001b[38;5;241m.\u001b[39mshape\n\u001b[1;32m    615\u001b[0m )\n\u001b[1;32m    616\u001b[0m \u001b[38;5;28;01mif\u001b[39;00m out\u001b[38;5;241m.\u001b[39mlength \u001b[38;5;129;01mis\u001b[39;00m \u001b[38;5;129;01mnot\u001b[39;00m unknown_length \u001b[38;5;129;01mand\u001b[39;00m out\u001b[38;5;241m.\u001b[39mlength \u001b[38;5;241m==\u001b[39m \u001b[38;5;241m0\u001b[39m:\n\u001b[1;32m    617\u001b[0m     \u001b[38;5;28;01mreturn\u001b[39;00m out\u001b[38;5;241m.\u001b[39m_getitem_nothing()\n",
      "File \u001b[0;32m/opt/conda/lib/python3.11/site-packages/awkward/contents/indexedoptionarray.py:356\u001b[0m, in \u001b[0;36mIndexedOptionArray._carry\u001b[0;34m(self, carry, allow_lazy)\u001b[0m\n\u001b[1;32m    354\u001b[0m     nextindex \u001b[38;5;241m=\u001b[39m \u001b[38;5;28mself\u001b[39m\u001b[38;5;241m.\u001b[39m_index[carry\u001b[38;5;241m.\u001b[39mdata]\n\u001b[1;32m    355\u001b[0m \u001b[38;5;28;01mexcept\u001b[39;00m \u001b[38;5;167;01mIndexError\u001b[39;00m \u001b[38;5;28;01mas\u001b[39;00m err:\n\u001b[0;32m--> 356\u001b[0m     \u001b[38;5;28;01mraise\u001b[39;00m ak\u001b[38;5;241m.\u001b[39m_errors\u001b[38;5;241m.\u001b[39mindex_error(\u001b[38;5;28mself\u001b[39m, carry\u001b[38;5;241m.\u001b[39mdata, \u001b[38;5;28mstr\u001b[39m(err)) \u001b[38;5;28;01mfrom\u001b[39;00m \u001b[38;5;21;01merr\u001b[39;00m\n\u001b[1;32m    358\u001b[0m \u001b[38;5;28;01mreturn\u001b[39;00m IndexedOptionArray(nextindex, \u001b[38;5;28mself\u001b[39m\u001b[38;5;241m.\u001b[39m_content, parameters\u001b[38;5;241m=\u001b[39m\u001b[38;5;28mself\u001b[39m\u001b[38;5;241m.\u001b[39m_parameters)\n",
      "\u001b[0;31mIndexError\u001b[0m: cannot slice IndexedOptionArray (of length 284388) with array([     0,      1,      2, ..., 300789, 300790, 300791]): index 284388 is out of bounds for axis 0 with size 284388",
      "\u001b[0m\nThis error occurred while attempting to slice\n\n    <PtEtaPhiMCollectionArray [{eta: -0.574, mass: 61.2, ...}, ...] type='2...'>\n\nwith\n\n    <Array [True, True, True, True, ..., True, True, True] type='300792 * bool'>"
     ]
    }
   ],
   "source": [
    "gj0_groomed, gj0_groomed_select = get_groomed_jet( gj0, gsubjets )"
   ]
  },
  {
   "cell_type": "code",
   "execution_count": null,
   "metadata": {},
   "outputs": [],
   "source": []
  },
  {
   "cell_type": "code",
   "execution_count": null,
   "metadata": {},
   "outputs": [],
   "source": []
  },
  {
   "cell_type": "markdown",
   "metadata": {},
   "source": [
    "### Compute $\\Delta R$ between leading gen jet and matched reco jet. Require to be $< 0.2$"
   ]
  },
  {
   "cell_type": "code",
   "execution_count": 7,
   "metadata": {},
   "outputs": [],
   "source": [
    "# Calculate delta r\n",
    "gj_deltar_fj = gj0.delta_r(fj0)\n",
    "# Find events where the delta r is < 0.2\n",
    "pass_dr = gj_deltar_fj < 0.2\n",
    "gj0 = gj0[pass_dr]\n",
    "fj0 = fj0[pass_dr]\n",
    "# Discard events with low pt\n",
    "pass_pt = fj0.pt > 200.\n",
    "gj0 = gj0[pass_pt]\n",
    "fj0 = fj0[pass_pt]\n",
    "gj0_groomed = gj0_groomed[pass_pt]"
   ]
  },
  {
   "cell_type": "code",
   "execution_count": null,
   "metadata": {},
   "outputs": [],
   "source": []
  },
  {
   "cell_type": "code",
   "execution_count": null,
   "metadata": {},
   "outputs": [],
   "source": []
  },
  {
   "cell_type": "markdown",
   "metadata": {},
   "source": [
    "### Divide into even and odd events to test and train the neural network"
   ]
  },
  {
   "cell_type": "code",
   "execution_count": 8,
   "metadata": {},
   "outputs": [],
   "source": [
    "#pick lowest size\n",
    "size_odd = len(gj0.pt[1::2])\n",
    "size_even = len(gj0.pt[0::2])\n",
    "size_all = size_even if size_odd > size_even else size_odd"
   ]
  },
  {
   "cell_type": "code",
   "execution_count": 9,
   "metadata": {},
   "outputs": [],
   "source": [
    "even_gj0 = gj0[0::2][0:size_all]\n",
    "odd_gj0 = gj0[1::2][0:size_all]\n",
    "\n",
    "even_gj0_groomed = gj0_groomed[0::2][0:size_all]\n",
    "odd_gj0_groomed = gj0_groomed[1::2][0:size_all]\n",
    "\n",
    "even_fj0 = fj0[0::2][0:size_all]\n",
    "odd_fj0 = fj0[1::2][0:size_all]"
   ]
  },
  {
   "cell_type": "code",
   "execution_count": null,
   "metadata": {},
   "outputs": [],
   "source": []
  },
  {
   "cell_type": "markdown",
   "metadata": {},
   "source": [
    "### Arrange the jet pt and mass into the format omnifold expects\n",
    "\n",
    "General plan is to add jet composition variables to this array and see if the resolution of the regression improves"
   ]
  },
  {
   "cell_type": "code",
   "execution_count": 10,
   "metadata": {},
   "outputs": [
    {
     "name": "stdout",
     "output_type": "stream",
     "text": [
      "CLEAR\n"
     ]
    }
   ],
   "source": [
    "\n",
    "odd_gen = np.column_stack((\n",
    "    ak.to_numpy( odd_gj0.mass.compute() ),\n",
    "    ak.to_numpy( odd_gj0.pt.compute() ),\n",
    "    ak.to_numpy( odd_gj0_groomed.mass.compute() )\n",
    "))\n",
    "\n",
    "odd_reco = np.column_stack((\n",
    "    ak.to_numpy( odd_fj0.mass.compute() ),\n",
    "    ak.to_numpy( odd_fj0.pt.compute() ),\n",
    "    ak.to_numpy( odd_fj0.msoftdrop.compute() )\n",
    "))\n",
    "\n",
    "even_gen = np.column_stack([\n",
    "    ak.to_numpy(even_gj0.mass.compute() ),\n",
    "    ak.to_numpy(even_gj0.pt.compute() ),\n",
    "    ak.to_numpy( even_gj0_groomed.mass.compute() )\n",
    "])\n",
    "\n",
    "even_reco = np.column_stack([\n",
    "    ak.to_numpy(even_fj0.mass.compute() ) ,\n",
    "    ak.to_numpy(even_fj0.pt.compute() ),\n",
    "    ak.to_numpy(even_fj0.msoftdrop.compute() )\n",
    "])\n",
    "\n",
    "theta0 = np.stack((odd_gen, odd_reco), axis=1)\n",
    "\n",
    "print(\"CLEAR\")"
   ]
  },
  {
   "cell_type": "code",
   "execution_count": null,
   "metadata": {},
   "outputs": [],
   "source": [
    "theta0.shape"
   ]
  },
  {
   "cell_type": "code",
   "execution_count": null,
   "metadata": {
    "ExecuteTime": {
     "end_time": "2020-11-17T03:49:24.308730Z",
     "start_time": "2020-11-17T03:48:59.981078Z"
    }
   },
   "outputs": [],
   "source": []
  },
  {
   "cell_type": "code",
   "execution_count": null,
   "metadata": {},
   "outputs": [],
   "source": [
    "print(odd_gen)\n",
    "print(even_gen)\n",
    "print(theta0)"
   ]
  },
  {
   "cell_type": "code",
   "execution_count": null,
   "metadata": {},
   "outputs": [],
   "source": [
    "_,_,_=plt.hist(odd_gen[:,0],bins=np.linspace(0,1000,200),color='blue',alpha=0.5,label=\"Odd, gen\")\n",
    "_,_,_=plt.hist(odd_reco[:,0],bins=np.linspace(0,1000,200),histtype=\"step\",color='black',ls=':',label=\"Odd, reco\")\n",
    "_,_,_=plt.hist(even_gen[:,0],bins=np.linspace(0,1000,200),color='orange',alpha=0.5,label=\"Even, gen\")\n",
    "_,_,_=plt.hist(even_reco[:,0],bins=np.linspace(0,1000,200),histtype=\"step\",color='black',label=\"Even, reco\")\n",
    "plt.xlabel(\"Ungroomed jet mass $m$ (GeV)\")\n",
    "plt.ylabel(\"Number of events\")\n",
    "plt.legend(frameon=False)\n",
    "\n"
   ]
  },
  {
   "cell_type": "code",
   "execution_count": null,
   "metadata": {},
   "outputs": [],
   "source": [
    "_,_,_=plt.hist(odd_gen[:,1],bins=np.linspace(-3,1000,200),color='blue',alpha=0.5,label=\"Odd, gen\")\n",
    "_,_,_=plt.hist(odd_reco[:,1],bins=np.linspace(-3,1000,200),histtype=\"step\",color='black',ls=':',label=\"Odd, reco\")\n",
    "_,_,_=plt.hist(even_gen[:, 1],bins=np.linspace(-3,1000,200),color='orange',alpha=0.5,label=\"Even, gen\")\n",
    "_,_,_=plt.hist(even_reco[:, 1],bins=np.linspace(-3,1000,200),histtype=\"step\",color='black',label=\"Even, reco\")\n",
    "plt.xlabel(\"Transverse Momentum $p_{T}$ (GeV)\")\n",
    "plt.ylabel(\"Number of events\")\n",
    "plt.legend(frameon=False)\n"
   ]
  },
  {
   "cell_type": "code",
   "execution_count": null,
   "metadata": {},
   "outputs": [],
   "source": [
    "_,_,_=plt.hist(odd_gen[:,2],bins=np.linspace(0,1000,200),color='blue',alpha=0.5,label=\"Odd, gen\")\n",
    "_,_,_=plt.hist(odd_reco[:,2],bins=np.linspace(0,1000,200),histtype=\"step\",color='black',ls=':',label=\"Odd, reco\")\n",
    "_,_,_=plt.hist(even_gen[:,2],bins=np.linspace(0,1000,200),color='orange',alpha=0.5,label=\"Even, gen\")\n",
    "_,_,_=plt.hist(even_reco[:,2],bins=np.linspace(0,1000,200),histtype=\"step\",color='black',label=\"Even, reco\")\n",
    "plt.xlabel(\"Groomed jet mass $m$ (GeV)\")\n",
    "plt.ylabel(\"Number of events\")\n",
    "plt.legend(frameon=False)"
   ]
  },
  {
   "cell_type": "code",
   "execution_count": null,
   "metadata": {},
   "outputs": [],
   "source": [
    "_,_,_=plt.hist(gj0.eta.compute(),bins=np.linspace(-3,3,200),color='blue',alpha=0.5,label=\"gen, eta\")\n",
    "_,_,_=plt.hist(gj0.phi.compute(),bins=np.linspace(-3,3,200),histtype=\"step\",color='black',ls=':',label=\"gen, phi\")\n",
    "_,_,_=plt.hist(fj0.eta.compute(),bins=np.linspace(-3,3,200),color='orange',alpha=0.5,label=\"reco, eta\")\n",
    "_,_,_=plt.hist(fj0.phi.compute(),bins=np.linspace(-3,3,200),histtype=\"step\",color='green',ls=':',label=\"reco, phi\")\n",
    "#_,_,_=plt.hist(jet_genmass[:],bins=np.linspace(-3,1000,200),color='orange',alpha=0.5,label=\"Data, true\")\n",
    "#_,_,_=plt.hist(jet_genpt[:],bins=np.linspace(-3,1000,200),histtype=\"step\",color='black',label=\"Data, reco\")\n",
    "plt.xlabel(\"parts\")\n",
    "plt.ylabel(\"events\")\n",
    "plt.legend(frameon=False)"
   ]
  },
  {
   "cell_type": "code",
   "execution_count": null,
   "metadata": {},
   "outputs": [],
   "source": []
  },
  {
   "cell_type": "code",
   "execution_count": null,
   "metadata": {},
   "outputs": [],
   "source": [
    "#Data, true\n",
    "plt.figure(figsize=(10, 8))\n",
    "plt.hist2d(even_gen[:,0], even_reco[:,0], \n",
    "           bins=(np.linspace(0,1000,101), np.linspace(0,1000,101)), \n",
    "           cmap='Oranges', alpha=0.5, label=\"Data, true\",\n",
    "           norm=mpl.colors.LogNorm())\n",
    "plt.colorbar()\n",
    "plt.xlabel(\"Generated mass (GeV)\")\n",
    "plt.ylabel(\"Reconstructed mass (GeV)\")\n",
    "plt.title(\"Even events \")\n",
    "plt.show()"
   ]
  },
  {
   "cell_type": "code",
   "execution_count": null,
   "metadata": {},
   "outputs": [],
   "source": [
    "#Data, true\n",
    "plt.figure(figsize=(10, 8))\n",
    "plt.hist2d(even_gen[:,1], even_reco[:,1], \n",
    "           bins=(np.linspace(200,1000,101), np.linspace(200,1000,101)), \n",
    "           cmap='Oranges', alpha=0.5, label=\"Data, true\",\n",
    "           norm=mpl.colors.LogNorm())\n",
    "plt.colorbar()\n",
    "plt.xlabel(\"Generated transverse momentum (GeV)\")\n",
    "plt.ylabel(\"Reconstructed transverse momentum (GeV)\")\n",
    "plt.title(\"Even events \")\n",
    "plt.show()"
   ]
  },
  {
   "cell_type": "code",
   "execution_count": null,
   "metadata": {},
   "outputs": [],
   "source": [
    "#Data, true\n",
    "plt.figure(figsize=(10, 8))\n",
    "plt.hist2d(even_gen[:,2], even_reco[:,2], \n",
    "           bins=(np.linspace(0,1000,101), np.linspace(0,1000,101)), \n",
    "           cmap='Oranges', alpha=0.5, label=\"Data, true\",\n",
    "           norm=mpl.colors.LogNorm())\n",
    "plt.colorbar()\n",
    "plt.xlabel(\"Generated groomed mass (GeV)\")\n",
    "plt.ylabel(\"Reconstructed groomed mass (GeV)\")\n",
    "plt.title(\"Even events \")\n",
    "plt.show()"
   ]
  },
  {
   "cell_type": "code",
   "execution_count": null,
   "metadata": {},
   "outputs": [],
   "source": [
    "#Data, true\n",
    "plt.figure(figsize=(10, 8))\n",
    "plt.hist2d(even_reco[:, 0], even_reco[:, 1], bins=(np.linspace(0,100,101), np.linspace(0,1000,101)), cmap='Oranges', alpha=0.5, label=\"Data, true\")\n",
    "plt.colorbar()\n",
    "plt.xlabel(\"Jet mass $m$ (GeV)\")\n",
    "plt.ylabel(\"Jet transverse momentum $p_T$ (GeV)\")\n",
    "plt.title(\"Even events \")\n",
    "plt.show()"
   ]
  },
  {
   "cell_type": "code",
   "execution_count": null,
   "metadata": {},
   "outputs": [],
   "source": [
    "data = DataLoader(reco = even_reco,normalize=True)\n",
    "mc = DataLoader(reco = odd_reco,gen = odd_gen,normalize=True)"
   ]
  },
  {
   "cell_type": "code",
   "execution_count": null,
   "metadata": {},
   "outputs": [],
   "source": [
    "SetStyle()\n",
    "data_dict = {\n",
    "    'even_gen': even_gen[:,0],\n",
    "    'even_reco': even_reco[:,0],\n",
    "    'odd_gen': odd_gen[:,0],\n",
    "    'odd_reco': odd_reco[:,0],\n",
    "}\n",
    "HistRoutine(data_dict,'First Feature [a.u]', reference_name = 'even_gen',plot_ratio=False)"
   ]
  },
  {
   "cell_type": "code",
   "execution_count": null,
   "metadata": {},
   "outputs": [],
   "source": [
    "ndim = 3\n",
    "model1 = MLP(ndim)\n",
    "model2 = MLP(ndim)"
   ]
  },
  {
   "cell_type": "code",
   "execution_count": null,
   "metadata": {},
   "outputs": [],
   "source": [
    "print(model1.summary())"
   ]
  },
  {
   "cell_type": "code",
   "execution_count": null,
   "metadata": {},
   "outputs": [],
   "source": []
  },
  {
   "cell_type": "code",
   "execution_count": null,
   "metadata": {},
   "outputs": [],
   "source": [
    "omnifold_instance = MultiFold(\n",
    "    \"PtMass\",\n",
    "    model1,\n",
    "    model2,\n",
    "    data,\n",
    "    mc,\n",
    "    batch_size = 1024,\n",
    "    niter = 5,  #Number of Iterations                                                                                                                                                                                                  \n",
    "    epochs=100,     \n",
    "    weights_folder = 'weights',\n",
    "    verbose = True,\n",
    ")"
   ]
  },
  {
   "cell_type": "code",
   "execution_count": null,
   "metadata": {
    "scrolled": true
   },
   "outputs": [],
   "source": [
    "omnifold_instance.Preprocessing()\n",
    "omnifold_instance.Unfold()"
   ]
  },
  {
   "cell_type": "code",
   "execution_count": null,
   "metadata": {},
   "outputs": [],
   "source": []
  },
  {
   "cell_type": "code",
   "execution_count": null,
   "metadata": {},
   "outputs": [],
   "source": []
  },
  {
   "cell_type": "markdown",
   "metadata": {},
   "source": []
  },
  {
   "cell_type": "code",
   "execution_count": null,
   "metadata": {},
   "outputs": [],
   "source": [
    "unfolded_weights  = omnifold_instance.reweight(even_gen,omnifold_instance.model2,batch_size=1000)   "
   ]
  },
  {
   "cell_type": "code",
   "execution_count": null,
   "metadata": {},
   "outputs": [],
   "source": []
  },
  {
   "cell_type": "markdown",
   "metadata": {},
   "source": [
    "`data` is the even events, `mc` is the odd events"
   ]
  },
  {
   "cell_type": "code",
   "execution_count": null,
   "metadata": {},
   "outputs": [],
   "source": [
    "print(unfolded_weights)"
   ]
  },
  {
   "cell_type": "code",
   "execution_count": null,
   "metadata": {},
   "outputs": [],
   "source": []
  },
  {
   "cell_type": "code",
   "execution_count": null,
   "metadata": {},
   "outputs": [],
   "source": [
    "data_dict_mass = {\n",
    "    'even_gen': even_gen[:,0],\n",
    "    'even_reco': even_reco[:,0],\n",
    "    'odd_gen': odd_gen[:,0],\n",
    "    'odd_reco': odd_reco[:,0],\n",
    "    'unfolded': even_gen[:,0]\n",
    "}\n",
    "\n",
    "\n",
    "weight_dict_mass = {\n",
    "    'even_gen': data.weight,\n",
    "    'even_reco': data.weight,\n",
    "    'odd_gen': mc.weight,\n",
    "    'odd_reco': mc.weight,\n",
    "    'unfolded': unfolded_weights,\n",
    "    }\n",
    "\n",
    "fig,_ = HistRoutine(data_dict_mass,'Ungroomed Jet Mass ($m_u$) [GeV]',\n",
    "                    reference_name = 'even_gen',\n",
    "                    weights = weight_dict_mass,\n",
    "                    plot_ratio = False\n",
    "                    )"
   ]
  },
  {
   "cell_type": "code",
   "execution_count": null,
   "metadata": {},
   "outputs": [],
   "source": [
    "data_dict_pt = {\n",
    "    'even_gen': even_gen[:,1],\n",
    "    'even_reco': even_reco[:,1],\n",
    "    'odd_gen': odd_gen[:,1],\n",
    "    'odd_reco': odd_reco[:,1],\n",
    "    'unfolded': even_gen[:,1]\n",
    "}\n",
    "\n",
    "\n",
    "weight_dict_pt = {\n",
    "    'even_gen': data.weight,\n",
    "    'even_reco': data.weight,\n",
    "    'odd_gen': mc.weight,\n",
    "    'odd_reco': mc.weight,\n",
    "    'unfolded': unfolded_weights,\n",
    "    }\n",
    "\n",
    "fig,_ = HistRoutine(data_dict_pt,'Jet Transverse Momentum ($p_T$) [GeV]',\n",
    "                    reference_name = 'even_gen',\n",
    "                    weights = weight_dict_pt,\n",
    "                    plot_ratio = False\n",
    "                    )"
   ]
  },
  {
   "cell_type": "code",
   "execution_count": null,
   "metadata": {},
   "outputs": [],
   "source": []
  }
 ],
 "metadata": {
  "kernelspec": {
   "display_name": "Python 3 (ipykernel)",
   "language": "python",
   "name": "python3"
  },
  "language_info": {
   "codemirror_mode": {
    "name": "ipython",
    "version": 3
   },
   "file_extension": ".py",
   "mimetype": "text/x-python",
   "name": "python",
   "nbconvert_exporter": "python",
   "pygments_lexer": "ipython3",
   "version": "3.11.10"
  },
  "notify_time": "0",
  "toc": {
   "base_numbering": 1,
   "nav_menu": {},
   "number_sections": false,
   "sideBar": true,
   "skip_h1_title": false,
   "title_cell": "Table of Contents",
   "title_sidebar": "Contents",
   "toc_cell": false,
   "toc_position": {},
   "toc_section_display": true,
   "toc_window_display": false
  }
 },
 "nbformat": 4,
 "nbformat_minor": 4
}
